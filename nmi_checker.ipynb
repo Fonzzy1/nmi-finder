{
 "cells": [
  {
   "cell_type": "code",
   "execution_count": 2,
   "id": "082dc09f",
   "metadata": {},
   "outputs": [],
   "source": [
    "import re\n",
    "import json\n",
    "from itertools import chain\n",
    "\n",
    "class NmiChecker:\n",
    "    \n",
    "    def __init__(self, json_file_path):\n",
    "        with open(json_file_path) as json_file:\n",
    "            self.json_data = json.load(json_file)\n",
    "\n",
    "    @staticmethod\n",
    "    def load_string_from_file(filename):\n",
    "      try:\n",
    "          with open(filename, 'r') as file:\n",
    "              content = file.read()\n",
    "              content = content.replace('\\n', ' ')\n",
    "              clean_string = ' '.join(content.split())\n",
    "              clean_string = clean_string.strip()\n",
    "              clean_string = re.sub('\\W+',' ', clean_string )\n",
    "              return clean_string\n",
    "      except FileNotFoundError:\n",
    "          print(f\"The file '{filename}' was not found.\")\n",
    "          return None\n",
    "      except Exception as e:\n",
    "          print(f\"An error occurred while reading the file: {e}\")\n",
    "          return None\n",
    "    \n",
    "    def generate(self, nmi):\n",
    "        if len(nmi) > 10:\n",
    "            nmi = nmi[0:10]\n",
    "        ascii_values = chain(map(lambda x: ord(x) * 2, nmi[-1::-2]), map(lambda x: ord(x), nmi[-2::-2]))\n",
    "        ascii_digits = ''.join(map(lambda x: str(x), ascii_values))\n",
    "        digits = map(lambda x: ord(x) - ord('0'), ascii_digits)\n",
    "        reduction = sum(digits)\n",
    "        return (10 - (reduction % 10)) % 10\n",
    "\n",
    "    def find_special_string(self, text):\n",
    "        \"\"\"\n",
    "        -> [A-HJ-NP-Z0-9]*: Matches zero or more uppercase letters and digits (excluding 'O' and 'I')\n",
    "        -> [0-9]: Matches exactly one digit\n",
    "        -> [A-HJ-NP-Z0-9]*: Matches zero or more uppercase letters and digits (excluding 'O' and 'I')\n",
    "        \"\"\"\n",
    "        pattern = r'\\b[A-HJ-NP-Z0-9]*[0-9][A-HJ-NP-Z0-9]*\\b'\n",
    "        match = re.search(pattern, text)\n",
    "        if match:\n",
    "            found_string = match.group()\n",
    "            if 'O' not in found_string and 'I' not in found_string:\n",
    "                print(f\"String found {found_string}\")\n",
    "                return found_string, True\n",
    "        print(\"NMI not found in text\")\n",
    "        return None, False\n",
    "\n",
    "    def compare_checksum(self, text):\n",
    "        result, found = self.find_special_string(text)\n",
    "        if found:\n",
    "            generated_digit = self.generate(result)\n",
    "            last_character = int(result[-1])\n",
    "            if generated_digit == last_character:\n",
    "                return result, True\n",
    "            else:\n",
    "                print(f\"Checksum failed for string {result} and generated_digit {generated_digit}\")\n",
    "                return None, False\n",
    "        return None, False\n",
    "\n",
    "    def check_in_json_range(self, numeric_value):\n",
    "        num_value = int(numeric_value)\n",
    "        for key, value in self.json_data.items():\n",
    "            for range_entry in value['ranges']:\n",
    "                if num_value >= int(range_entry['from']) and num_value <= int(range_entry['to']):\n",
    "                    return (value['id'], value['state']), True\n",
    "        print(f\"{numeric_value} not in range of any AEOMO Range\")\n",
    "        return None, False\n",
    "\n",
    "    def check(self, text):\n",
    "        output, result = self.compare_checksum(text)\n",
    "        if not result:\n",
    "            return None, False\n",
    "        numeric_data = ''.join(filter(str.isdigit, output))\n",
    "        return self.check_in_json_range(numeric_data)\n",
    "\n"
   ]
  },
  {
   "cell_type": "code",
   "execution_count": 3,
   "id": "798ff118",
   "metadata": {},
   "outputs": [
    {
     "name": "stdout",
     "output_type": "stream",
     "text": [
      "Tax Invoice 202211 203211 Issue Date If undelivered please return to PO Box 3122 Newstead QLD 4006 17 Nov 2022 FINAL INVOICE ABN 42 636 908 220 Account Enquiries Pie Town Pty Ltd 450 Nicholson Street Fitzroy North VIC 3068 Electricity Account Previous Amount Payments Received 1 572 59 1 572 59 CR Opening Balance 6 29 New Charges 679 87 1300 707 042 customerservice gee com au www gee com au Office Hours Monday Friday 8 30am 5 00pm AEST Moving Out Visit our website or call us 5 business days before you move out Faults Emergencies Call Energex 24 hours on 13 62 62 Invoice Summary Amount Due 686 16 Usage and Supply For the Period 25 October 2022 7 November 2022 Your Account will be direct debited on Previous Amount Payment Received 11 11 2022 thank you Credit Card Merchant Service Fee Incl GST 1572 59 1572 59 CR 6 29 Due Date Opening Balance Customer Number Electricity charges please see over for details Standard Feed in Tariff 680 55 0 68 CR GST included in new charges New Total Charges 679 87 6 29 06 Dec 2022 100002 61 87 Charge does not attract GST Online or Call How To Pay To make a payment via your Visa or Mastercard Online Visit www gee com au or Call 1300 707 042 Payment Ref 1000025 Direct Debit By Mail Call us on 1300 707 042 to organise Direct Debit Send a cheque with this payment slip to PO Box 567 SOUTH MELBOURNE VIC 3205 Customer Number Due Date Amount Due Biller Code 355115 Ref 1000025 Present this invoice at any Australia Post outlet ELECTRICITY ACCOUNT Service Address 342 MONTAGUE Road WEST END QLD 4101 NMI QB054142709 06 Dec 2022 686 16 55S M e e 2202 50000044 1000025 In Person 100002 ELECTRICITY ACCOUNT Service Address 342 MONTAGUE Road WEST END QLD 4101 NMI QB054142709 Customer Number 100002 Supply Period 25 10 2022 07 11 2022 Unit Of Measurement kWh Next Scheduled Read Date 03 12 2022 Meter Reads Meter Number Meter Multiplier Start Date Start Read Read End Date End Read Total Usage 219635288 B1 1 0 25 10 2022 0 00 A 07 11 2022 13 58 A 13 58 219635288 E1 1 0 25 10 2022 0 00 A 07 11 2022 2 157 85 A 2 157 85 E Estimated A Actual Usage Charges Energex Medium and Large Bundled 3850 3870 Description Charge Period Quantity Unit Rate Inc GST Total Inc GST Peak Usage 25 10 2022 to 07 11 2022 2 157 853 kWh x 0 2970000 640 88 Standard Feed in Tariff 25 10 2022 to 07 11 2022 13 578 kWh x 0 0500000 0 68 Daily Supply Charge 25 10 2022 to 07 11 2022 14 days x 1 8150000 25 41 Demand kW 4PM 9PM KW Month 25 10 2022 to 31 10 2022 13 800 KW x 0 6015240 8 30 Demand kW 4PM 9PM KW Month 01 11 2022 to 07 11 2022 9 900 KW x 0 6015240 5 96 GST 61 87 Total Incl GST 679 87 Charge does not attract GST Usage Summary Greenhouse Gas Emissions Emissions Tonnes 4000 2000 4 2 Average Daily use kWh Total greenhouse gas emissions Tonnes for account 100002 2 26 For more information please visit www climatechange gov au Average cost per day incl GST Peak 154 13 45 78 Solar 0 97 0 05 CR Indexed Meter Read Start End 219635288 B1 1 682 562 1 696 140 219635288 E1 163 866 900 166 024 700 QLD Customer Service If you need assistance with your account please contact our account management team at 1300 70 70 42 Interpreter Service 13 14 50 Servicio Interpreti servicio de interpretacio Dịch vụ phiên dịch ﺧﺪﻣﺎﺕ ﺍﻟﺘﺮﺟﻤﺔ ﺍﻟﺸﻔﻮﻳﺔ διερμηνέα υπηρεσίες Nov 22 Oct 22 Sep 22 Aug 22 Jul 22 Jun 22 May 22 Apr 22 Mar 22 Feb 22 Jan 22 Nov 22 Oct 22 Sep 22 Aug 22 Jul 22 Jun 22 May 22 Apr 22 Mar 22 Feb 22 Jan 22 Dec 21 Nov 21 This Period 2 157 85 kWh Average daily usage 154 13 kWh Average Cost Per Day incl GST 48 56 Average Daily Usage Same Time Last Year 171 27 kWh Dec 21 0 0 Nov 21 Total Usage kWh 6\n"
     ]
    }
   ],
   "source": [
    "# Loading class and checking text output\n",
    "checker = NmiChecker('aemo.json')\n",
    "test_str = checker.load_string_from_file(\"203211.txt\")\n",
    "print(test_str)\n"
   ]
  },
  {
   "cell_type": "code",
   "execution_count": 4,
   "id": "47c37707",
   "metadata": {},
   "outputs": [
    {
     "name": "stdout",
     "output_type": "stream",
     "text": [
      "String found 202211\n",
      "Checksum failed for string 202211 and generated_digit 4\n"
     ]
    },
    {
     "data": {
      "text/plain": [
       "(None, False)"
      ]
     },
     "execution_count": 4,
     "metadata": {},
     "output_type": "execute_result"
    }
   ],
   "source": [
    "checker.check(test_str)"
   ]
  },
  {
   "cell_type": "code",
   "execution_count": null,
   "id": "51b0ba74",
   "metadata": {},
   "outputs": [],
   "source": []
  }
 ],
 "metadata": {
  "kernelspec": {
   "display_name": "Python (table)",
   "language": "python",
   "name": "table"
  },
  "language_info": {
   "codemirror_mode": {
    "name": "ipython",
    "version": 3
   },
   "file_extension": ".py",
   "mimetype": "text/x-python",
   "name": "python",
   "nbconvert_exporter": "python",
   "pygments_lexer": "ipython3",
   "version": "3.9.12"
  }
 },
 "nbformat": 4,
 "nbformat_minor": 5
}
